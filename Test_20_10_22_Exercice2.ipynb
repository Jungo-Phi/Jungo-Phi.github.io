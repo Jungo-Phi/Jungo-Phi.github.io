{
  "metadata": {
    "language_info": {
      "codemirror_mode": {
        "name": "python",
        "version": 3
      },
      "file_extension": ".py",
      "mimetype": "text/x-python",
      "name": "python",
      "nbconvert_exporter": "python",
      "pygments_lexer": "ipython3",
      "version": "3.8"
    },
    "kernelspec": {
      "name": "python",
      "display_name": "Python (Pyodide)",
      "language": "python"
    }
  },
  "nbformat_minor": 4,
  "nbformat": 4,
  "cells": [
    {
      "cell_type": "markdown",
      "source": "## **Jungo Arnaud - 20.10.2022**\n# Dynamique des systèmes mécaniques.\n## Problème 2 - **le couvercle**\n### Résolution d'un problème de statique en physique du solide indéformable\n\n---\n\n#### Ce Notebook 📓 a été écrit sur jupyter [https://jupyter.org/].\n\n##### Cette page fonctionne avec un kernel. Chaque boite de code peut être éxécutée indémendament avec le bouton play en haut.\n---\n",
      "metadata": {}
    },
    {
      "cell_type": "markdown",
      "source": "### Import de la librairie SYMPY",
      "metadata": {}
    },
    {
      "cell_type": "code",
      "source": "import sympy as sp\nfrom sympy.matrices import Matrix\n\nfrom IPython.core.interactiveshell import InteractiveShell\nInteractiveShell.ast_node_interactivity = 'all'",
      "metadata": {
        "trusted": true
      },
      "execution_count": 1,
      "outputs": []
    },
    {
      "cell_type": "markdown",
      "source": "### Création d'une classe Torseur",
      "metadata": {}
    },
    {
      "cell_type": "code",
      "source": "class Torsor:\n    def __init__(self, point = Matrix([0, 0, 0]), force = Matrix([0, 0, 0]), moment = Matrix([0, 0, 0])):\n        self.point: Matrix = point\n        \"\"\"Point d'application A.\"\"\"\n        self.force: Matrix = force\n        \"\"\"Force vectorielle R [x, y, z].\"\"\"\n        self.moment: Matrix = moment\n        \"\"\"Moment M [l, m, n] (fonction du point A).\"\"\"\n\n    def change_point(self, point: Matrix):\n        \"\"\"Change le point d'application A.\"\"\"\n        ba = self.point - point\n        self.moment = self.moment + ba.cross(self.force)\n        self.point = point\n    \n    def __add__(self, other):\n        if self.point != other.point:\n            other.change_point(self.point)\n        return Torsor(self.point, self.force + other.force, self.moment + other.moment)",
      "metadata": {
        "trusted": true
      },
      "execution_count": 2,
      "outputs": []
    },
    {
      "cell_type": "markdown",
      "source": "### On donne un nom à nos inconnues",
      "metadata": {}
    },
    {
      "cell_type": "code",
      "source": "FBx, FBy, FBz, FCx, FCy, FCz, FAx, FAy, FAz, MAy, MAz = sp.symbols(\"FBx FBy FBz FCx FCy FCz FAx FAy FAz MAy MAz\")",
      "metadata": {
        "trusted": true
      },
      "execution_count": 49,
      "outputs": []
    },
    {
      "cell_type": "markdown",
      "source": "### On définit les points",
      "metadata": {}
    },
    {
      "cell_type": "code",
      "source": "A = Matrix([0, 0, 0])\nA\n\nB = Matrix([0, 0, -1.2])\nB\n\nC = Matrix([0.6 * sp.sqrt(2) / 2, 0.6 + 0.6 * sp.sqrt(2) / 2, 0])\nC\n\nD = Matrix([0, 1.2, 0])\nD\n\nG = Matrix([0, 0.6, 0])\nG\n\nO = Matrix([0, 0, -0.6])\nO",
      "metadata": {
        "trusted": true
      },
      "execution_count": 50,
      "outputs": [
        {
          "execution_count": 50,
          "output_type": "execute_result",
          "data": {
            "text/plain": "Matrix([\n[0],\n[0],\n[0]])",
            "text/latex": "$\\displaystyle \\left[\\begin{matrix}0\\\\0\\\\0\\end{matrix}\\right]$"
          },
          "metadata": {}
        },
        {
          "execution_count": 50,
          "output_type": "execute_result",
          "data": {
            "text/plain": "Matrix([\n[   0],\n[   0],\n[-1.2]])",
            "text/latex": "$\\displaystyle \\left[\\begin{matrix}0\\\\0\\\\-1.2\\end{matrix}\\right]$"
          },
          "metadata": {}
        },
        {
          "execution_count": 50,
          "output_type": "execute_result",
          "data": {
            "text/plain": "Matrix([\n[      0.3*sqrt(2)],\n[0.3*sqrt(2) + 0.6],\n[                0]])",
            "text/latex": "$\\displaystyle \\left[\\begin{matrix}0.3 \\sqrt{2}\\\\0.3 \\sqrt{2} + 0.6\\\\0\\end{matrix}\\right]$"
          },
          "metadata": {}
        },
        {
          "execution_count": 50,
          "output_type": "execute_result",
          "data": {
            "text/plain": "Matrix([\n[  0],\n[1.2],\n[  0]])",
            "text/latex": "$\\displaystyle \\left[\\begin{matrix}0\\\\1.2\\\\0\\end{matrix}\\right]$"
          },
          "metadata": {}
        },
        {
          "execution_count": 50,
          "output_type": "execute_result",
          "data": {
            "text/plain": "Matrix([\n[  0],\n[0.6],\n[  0]])",
            "text/latex": "$\\displaystyle \\left[\\begin{matrix}0\\\\0.6\\\\0\\end{matrix}\\right]$"
          },
          "metadata": {}
        },
        {
          "execution_count": 50,
          "output_type": "execute_result",
          "data": {
            "text/plain": "Matrix([\n[   0],\n[   0],\n[-0.6]])",
            "text/latex": "$\\displaystyle \\left[\\begin{matrix}0\\\\0\\\\-0.6\\end{matrix}\\right]$"
          },
          "metadata": {}
        }
      ]
    },
    {
      "cell_type": "markdown",
      "source": "# Sur la pièce 2 (barre)",
      "metadata": {}
    },
    {
      "cell_type": "markdown",
      "source": "### On définit les torseurs",
      "metadata": {}
    },
    {
      "cell_type": "code",
      "source": "TB = Torsor(B, Matrix([FBx, FBy,FBz]))\nTB.point\nTB.force",
      "metadata": {
        "trusted": true
      },
      "execution_count": 51,
      "outputs": [
        {
          "execution_count": 51,
          "output_type": "execute_result",
          "data": {
            "text/plain": "Matrix([\n[   0],\n[   0],\n[-1.2]])",
            "text/latex": "$\\displaystyle \\left[\\begin{matrix}0\\\\0\\\\-1.2\\end{matrix}\\right]$"
          },
          "metadata": {}
        },
        {
          "execution_count": 51,
          "output_type": "execute_result",
          "data": {
            "text/plain": "Matrix([\n[FBx],\n[FBy],\n[FBz]])",
            "text/latex": "$\\displaystyle \\left[\\begin{matrix}FBx\\\\FBy\\\\FBz\\end{matrix}\\right]$"
          },
          "metadata": {}
        }
      ]
    },
    {
      "cell_type": "code",
      "source": "TC = Torsor(C, Matrix([FCx, FCy, FCz]))\nTC.point\nTC.force",
      "metadata": {
        "trusted": true
      },
      "execution_count": 52,
      "outputs": [
        {
          "execution_count": 52,
          "output_type": "execute_result",
          "data": {
            "text/plain": "Matrix([\n[      0.3*sqrt(2)],\n[0.3*sqrt(2) + 0.6],\n[                0]])",
            "text/latex": "$\\displaystyle \\left[\\begin{matrix}0.3 \\sqrt{2}\\\\0.3 \\sqrt{2} + 0.6\\\\0\\end{matrix}\\right]$"
          },
          "metadata": {}
        },
        {
          "execution_count": 52,
          "output_type": "execute_result",
          "data": {
            "text/plain": "Matrix([\n[FCx],\n[FCy],\n[FCz]])",
            "text/latex": "$\\displaystyle \\left[\\begin{matrix}FCx\\\\FCy\\\\FCz\\end{matrix}\\right]$"
          },
          "metadata": {}
        }
      ]
    },
    {
      "cell_type": "markdown",
      "source": "### On fait la somme des torseurs\n#### En transférant le point d'application à **C**",
      "metadata": {}
    },
    {
      "cell_type": "code",
      "source": "TB.change_point(C)\nTB.point\nTB.force\nTB.moment",
      "metadata": {
        "trusted": true
      },
      "execution_count": 53,
      "outputs": [
        {
          "execution_count": 53,
          "output_type": "execute_result",
          "data": {
            "text/plain": "Matrix([\n[      0.3*sqrt(2)],\n[0.3*sqrt(2) + 0.6],\n[                0]])",
            "text/latex": "$\\displaystyle \\left[\\begin{matrix}0.3 \\sqrt{2}\\\\0.3 \\sqrt{2} + 0.6\\\\0\\end{matrix}\\right]$"
          },
          "metadata": {}
        },
        {
          "execution_count": 53,
          "output_type": "execute_result",
          "data": {
            "text/plain": "Matrix([\n[FBx],\n[FBy],\n[FBz]])",
            "text/latex": "$\\displaystyle \\left[\\begin{matrix}FBx\\\\FBy\\\\FBz\\end{matrix}\\right]$"
          },
          "metadata": {}
        },
        {
          "execution_count": 53,
          "output_type": "execute_result",
          "data": {
            "text/plain": "Matrix([\n[         1.2*FBy + FBz*(-0.6 - 0.3*sqrt(2))],\n[                 -1.2*FBx + 0.3*sqrt(2)*FBz],\n[-FBx*(-0.6 - 0.3*sqrt(2)) - 0.3*sqrt(2)*FBy]])",
            "text/latex": "$\\displaystyle \\left[\\begin{matrix}1.2 FBy + FBz \\left(-0.6 - 0.3 \\sqrt{2}\\right)\\\\- 1.2 FBx + 0.3 \\sqrt{2} FBz\\\\- FBx \\left(-0.6 - 0.3 \\sqrt{2}\\right) - 0.3 \\sqrt{2} FBy\\end{matrix}\\right]$"
          },
          "metadata": {}
        }
      ]
    },
    {
      "cell_type": "code",
      "source": "torsor_sum2 = TB + TC",
      "metadata": {
        "trusted": true
      },
      "execution_count": 59,
      "outputs": []
    },
    {
      "cell_type": "markdown",
      "source": "### Somme des forces",
      "metadata": {}
    },
    {
      "cell_type": "code",
      "source": "forces_equality2 = sp.Equality(torsor_sum2.force, Matrix([0, 0, 0]))\nforces_equality2",
      "metadata": {
        "trusted": true
      },
      "execution_count": 60,
      "outputs": [
        {
          "execution_count": 60,
          "output_type": "execute_result",
          "data": {
            "text/plain": "Eq(Matrix([\n[FBx + FCx],\n[FBy + FCy],\n[FBz + FCz]]), Matrix([\n[0],\n[0],\n[0]]))",
            "text/latex": "$\\displaystyle \\left[\\begin{matrix}FBx + FCx\\\\FBy + FCy\\\\FBz + FCz\\end{matrix}\\right] = \\left[\\begin{matrix}0\\\\0\\\\0\\end{matrix}\\right]$"
          },
          "metadata": {}
        }
      ]
    },
    {
      "cell_type": "markdown",
      "source": "### Somme des moments",
      "metadata": {}
    },
    {
      "cell_type": "code",
      "source": "moments_equality2 = sp.Equality(torsor_sum2.moment, Matrix([0, 0, 0]))\nmoments_equality2",
      "metadata": {
        "trusted": true
      },
      "execution_count": 61,
      "outputs": [
        {
          "execution_count": 61,
          "output_type": "execute_result",
          "data": {
            "text/plain": "Eq(Matrix([\n[         1.2*FBy + FBz*(-0.6 - 0.3*sqrt(2))],\n[                 -1.2*FBx + 0.3*sqrt(2)*FBz],\n[-FBx*(-0.6 - 0.3*sqrt(2)) - 0.3*sqrt(2)*FBy]]), Matrix([\n[0],\n[0],\n[0]]))",
            "text/latex": "$\\displaystyle \\left[\\begin{matrix}1.2 FBy + FBz \\left(-0.6 - 0.3 \\sqrt{2}\\right)\\\\- 1.2 FBx + 0.3 \\sqrt{2} FBz\\\\- FBx \\left(-0.6 - 0.3 \\sqrt{2}\\right) - 0.3 \\sqrt{2} FBy\\end{matrix}\\right] = \\left[\\begin{matrix}0\\\\0\\\\0\\end{matrix}\\right]$"
          },
          "metadata": {}
        }
      ]
    },
    {
      "cell_type": "markdown",
      "source": "---\n\n---\n\n---\n\n# Pour la pièce 1 (couvercle)",
      "metadata": {}
    },
    {
      "cell_type": "markdown",
      "source": "### On définit les torseurs",
      "metadata": {}
    },
    {
      "cell_type": "code",
      "source": "TA = Torsor(A, Matrix([FAx, FAy, FAz]), Matrix([0, MAy, MAz]))\nTA.point\nTA.force\nTA.moment",
      "metadata": {
        "trusted": true
      },
      "execution_count": 43,
      "outputs": [
        {
          "execution_count": 43,
          "output_type": "execute_result",
          "data": {
            "text/plain": "Matrix([\n[0],\n[0],\n[0]])",
            "text/latex": "$\\displaystyle \\left[\\begin{matrix}0\\\\0\\\\0\\end{matrix}\\right]$"
          },
          "metadata": {}
        },
        {
          "execution_count": 43,
          "output_type": "execute_result",
          "data": {
            "text/plain": "Matrix([\n[FAx],\n[FAy],\n[FAz]])",
            "text/latex": "$\\displaystyle \\left[\\begin{matrix}FAx\\\\FAy\\\\FAz\\end{matrix}\\right]$"
          },
          "metadata": {}
        },
        {
          "execution_count": 43,
          "output_type": "execute_result",
          "data": {
            "text/plain": "Matrix([\n[  0],\n[MAy],\n[MAz]])",
            "text/latex": "$\\displaystyle \\left[\\begin{matrix}0\\\\MAy\\\\MAz\\end{matrix}\\right]$"
          },
          "metadata": {}
        }
      ]
    },
    {
      "cell_type": "code",
      "source": "TC_c = Torsor(B, Matrix([-FCx, -FCy, -FCz]))\nTC_c.point\nTC_c.force",
      "metadata": {
        "trusted": true
      },
      "execution_count": 40,
      "outputs": [
        {
          "execution_count": 40,
          "output_type": "execute_result",
          "data": {
            "text/plain": "Matrix([\n[   0],\n[   0],\n[-1.2]])",
            "text/latex": "$\\displaystyle \\left[\\begin{matrix}0\\\\0\\\\-1.2\\end{matrix}\\right]$"
          },
          "metadata": {}
        },
        {
          "execution_count": 40,
          "output_type": "execute_result",
          "data": {
            "text/plain": "Matrix([\n[-FCx],\n[-FCy],\n[-FCz]])",
            "text/latex": "$\\displaystyle \\left[\\begin{matrix}- FCx\\\\- FCy\\\\- FCz\\end{matrix}\\right]$"
          },
          "metadata": {}
        }
      ]
    },
    {
      "cell_type": "code",
      "source": "TG = Torsor(G, Matrix([0, 0, -80 * 9.81]))\nTG.point\nTG.force",
      "metadata": {
        "trusted": true
      },
      "execution_count": 58,
      "outputs": [
        {
          "execution_count": 58,
          "output_type": "execute_result",
          "data": {
            "text/plain": "Matrix([\n[  0],\n[0.6],\n[  0]])",
            "text/latex": "$\\displaystyle \\left[\\begin{matrix}0\\\\0.6\\\\0\\end{matrix}\\right]$"
          },
          "metadata": {}
        },
        {
          "execution_count": 58,
          "output_type": "execute_result",
          "data": {
            "text/plain": "Matrix([\n[     0],\n[     0],\n[-784.8]])",
            "text/latex": "$\\displaystyle \\left[\\begin{matrix}0\\\\0\\\\-784.8\\end{matrix}\\right]$"
          },
          "metadata": {}
        }
      ]
    },
    {
      "cell_type": "markdown",
      "source": "### On fait la somme des torseurs\n#### En transférant le point d'application à **A**",
      "metadata": {}
    },
    {
      "cell_type": "code",
      "source": "TC_c.change_point(A)\nTC_c.moment\n\nTG.change_point(A)\nTG.moment\n\ntorsor_sum1 = TA + TC_c + TG\ntorsor_sum1.force\ntorsor_sum1.moment",
      "metadata": {
        "trusted": true
      },
      "execution_count": 62,
      "outputs": [
        {
          "execution_count": 62,
          "output_type": "execute_result",
          "data": {
            "text/plain": "Matrix([\n[-1.2*FCy],\n[ 1.2*FCx],\n[       0]])",
            "text/latex": "$\\displaystyle \\left[\\begin{matrix}- 1.2 FCy\\\\1.2 FCx\\\\0\\end{matrix}\\right]$"
          },
          "metadata": {}
        },
        {
          "execution_count": 62,
          "output_type": "execute_result",
          "data": {
            "text/plain": "Matrix([\n[-470.88],\n[      0],\n[      0]])",
            "text/latex": "$\\displaystyle \\left[\\begin{matrix}-470.88\\\\0\\\\0\\end{matrix}\\right]$"
          },
          "metadata": {}
        },
        {
          "execution_count": 62,
          "output_type": "execute_result",
          "data": {
            "text/plain": "Matrix([\n[        FAx - FCx],\n[        FAy - FCy],\n[FAz - FCz - 784.8]])",
            "text/latex": "$\\displaystyle \\left[\\begin{matrix}FAx - FCx\\\\FAy - FCy\\\\FAz - FCz - 784.8\\end{matrix}\\right]$"
          },
          "metadata": {}
        },
        {
          "execution_count": 62,
          "output_type": "execute_result",
          "data": {
            "text/plain": "Matrix([\n[-1.2*FCy - 470.88],\n[    1.2*FCx + MAy],\n[              MAz]])",
            "text/latex": "$\\displaystyle \\left[\\begin{matrix}- 1.2 FCy - 470.88\\\\1.2 FCx + MAy\\\\MAz\\end{matrix}\\right]$"
          },
          "metadata": {}
        }
      ]
    },
    {
      "cell_type": "markdown",
      "source": "### Somme des forces",
      "metadata": {}
    },
    {
      "cell_type": "code",
      "source": "forces_equality1 = sp.Equality(torsor_sum1.force, Matrix([0, 0, 0]))\nforces_equality1",
      "metadata": {
        "trusted": true
      },
      "execution_count": 63,
      "outputs": [
        {
          "execution_count": 63,
          "output_type": "execute_result",
          "data": {
            "text/plain": "Eq(Matrix([\n[        FAx - FCx],\n[        FAy - FCy],\n[FAz - FCz - 784.8]]), Matrix([\n[0],\n[0],\n[0]]))",
            "text/latex": "$\\displaystyle \\left[\\begin{matrix}FAx - FCx\\\\FAy - FCy\\\\FAz - FCz - 784.8\\end{matrix}\\right] = \\left[\\begin{matrix}0\\\\0\\\\0\\end{matrix}\\right]$"
          },
          "metadata": {}
        }
      ]
    },
    {
      "cell_type": "markdown",
      "source": "### Somme des moments",
      "metadata": {}
    },
    {
      "cell_type": "code",
      "source": "moments_equality1 = sp.Equality(torsor_sum1.moment, Matrix([0, 0, 0]))\nmoments_equality1",
      "metadata": {
        "trusted": true
      },
      "execution_count": 64,
      "outputs": [
        {
          "execution_count": 64,
          "output_type": "execute_result",
          "data": {
            "text/plain": "Eq(Matrix([\n[-1.2*FCy - 470.88],\n[    1.2*FCx + MAy],\n[              MAz]]), Matrix([\n[0],\n[0],\n[0]]))",
            "text/latex": "$\\displaystyle \\left[\\begin{matrix}- 1.2 FCy - 470.88\\\\1.2 FCx + MAy\\\\MAz\\end{matrix}\\right] = \\left[\\begin{matrix}0\\\\0\\\\0\\end{matrix}\\right]$"
          },
          "metadata": {}
        }
      ]
    },
    {
      "cell_type": "markdown",
      "source": "---\n---\n\n## Calcul de la solution\n##### (C'est là que la magie se produit)",
      "metadata": {}
    },
    {
      "cell_type": "code",
      "source": "solution = sp.solve((forces_equality1, moments_equality1, forces_equality2, moments_equality2))",
      "metadata": {
        "trusted": true
      },
      "execution_count": 65,
      "outputs": []
    },
    {
      "cell_type": "markdown",
      "source": "# Les résultats !",
      "metadata": {}
    },
    {
      "cell_type": "markdown",
      "source": "#### On substitue les inconnues par leur valeur numérique dans les Forces",
      "metadata": {}
    },
    {
      "cell_type": "code",
      "source": "TA.force = TA.force.subs(FAx, solution[FAx]).subs(FAy, solution[FAy]).subs(FAz, solution[FAz]).evalf()\nTA.force\n\nTA.moment = TA.moment.subs(MAy, solution[MAy]).subs(MAz, solution[MAz]).evalf()\nTA.moment",
      "metadata": {
        "trusted": true
      },
      "execution_count": 68,
      "outputs": [
        {
          "execution_count": 68,
          "output_type": "execute_result",
          "data": {
            "text/plain": "Matrix([\n[-162.537401875203],\n[           -392.4],\n[ 325.074803750405]])",
            "text/latex": "$\\displaystyle \\left[\\begin{matrix}-162.537401875203\\\\-392.4\\\\325.074803750405\\end{matrix}\\right]$"
          },
          "metadata": {}
        },
        {
          "execution_count": 68,
          "output_type": "execute_result",
          "data": {
            "text/plain": "Matrix([\n[               0],\n[195.044882250243],\n[               0]])",
            "text/latex": "$\\displaystyle \\left[\\begin{matrix}0\\\\195.044882250243\\\\0\\end{matrix}\\right]$"
          },
          "metadata": {}
        }
      ]
    },
    {
      "cell_type": "code",
      "source": "TC_c.force = TC.force.subs(FCx, solution[FCx]).subs(FCy, solution[FCy]).subs(FCz, solution[FCz]).evalf()\nTC_c.force\n\nTC_c.moment = TC.moment.subs(FCx, solution[FCx]).subs(FCy, solution[FCy]).evalf()\nTC_c.moment",
      "metadata": {
        "trusted": true
      },
      "execution_count": 72,
      "outputs": [
        {
          "execution_count": 72,
          "output_type": "execute_result",
          "data": {
            "text/plain": "Matrix([\n[-162.537401875203],\n[           -392.4],\n[-459.725196249595]])",
            "text/latex": "$\\displaystyle \\left[\\begin{matrix}-162.537401875203\\\\-392.4\\\\-459.725196249595\\end{matrix}\\right]$"
          },
          "metadata": {}
        },
        {
          "execution_count": 72,
          "output_type": "execute_result",
          "data": {
            "text/plain": "Matrix([\n[0],\n[0],\n[0]])",
            "text/latex": "$\\displaystyle \\left[\\begin{matrix}0\\\\0\\\\0\\end{matrix}\\right]$"
          },
          "metadata": {}
        }
      ]
    },
    {
      "cell_type": "code",
      "source": "",
      "metadata": {},
      "execution_count": null,
      "outputs": []
    }
  ]
}