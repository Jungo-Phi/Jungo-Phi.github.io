{
  "metadata": {
    "language_info": {
      "codemirror_mode": {
        "name": "python",
        "version": 3
      },
      "file_extension": ".py",
      "mimetype": "text/x-python",
      "name": "python",
      "nbconvert_exporter": "python",
      "pygments_lexer": "ipython3",
      "version": "3.8"
    },
    "kernelspec": {
      "name": "python",
      "display_name": "Python (Pyodide)",
      "language": "python"
    }
  },
  "nbformat_minor": 4,
  "nbformat": 4,
  "cells": [
    {
      "cell_type": "markdown",
      "source": "## **Jungo Arnaud - 20.10.2022**\n# Dynamique des systèmes mécaniques.\n## Problème 1 - **l'antenne**\n### Résolution d'un problème de statique en physique du solide indéformable\n\n---\n\n#### Ce Notebook 📓 a été écrit sur jupyter [https://jupyter.org/].\n\n##### Cette page fonctionne avec un kernel. Chaque boite de code peut être éxécutée indémendament avec le bouton play en haut.\n---\n",
      "metadata": {}
    },
    {
      "cell_type": "markdown",
      "source": "### Import de la librairie SYMPY",
      "metadata": {}
    },
    {
      "cell_type": "code",
      "source": "import sympy as sp\nfrom sympy.matrices import Matrix\n\nfrom IPython.core.interactiveshell import InteractiveShell\nInteractiveShell.ast_node_interactivity = 'all'",
      "metadata": {
        "trusted": true
      },
      "execution_count": 1,
      "outputs": []
    },
    {
      "cell_type": "markdown",
      "source": "### Création d'une classe Torseur",
      "metadata": {}
    },
    {
      "cell_type": "code",
      "source": "class Torsor:\n    def __init__(self, point = Matrix([0, 0, 0]), force = Matrix([0, 0, 0]), moment = Matrix([0, 0, 0])):\n        self.point: Matrix = point\n        \"\"\"Point d'application A.\"\"\"\n        self.force: Matrix = force\n        \"\"\"Force vectorielle R [x, y, z].\"\"\"\n        self.moment: Matrix = moment\n        \"\"\"Moment M [l, m, n] (fonction du point A).\"\"\"\n\n    def change_point(self, point: Matrix):\n        \"\"\"Change le point d'application A.\"\"\"\n        ba = self.point - point\n        self.moment = self.moment + ba.cross(self.force)\n        self.point = point\n    \n    def __add__(self, other):\n        if self.point != other.point:\n            other.change_point(self.point)\n        return Torsor(self.point, self.force + other.force, self.moment + other.moment)",
      "metadata": {
        "trusted": true
      },
      "execution_count": 2,
      "outputs": []
    },
    {
      "cell_type": "markdown",
      "source": "### On donne un nom à nos inconnues",
      "metadata": {}
    },
    {
      "cell_type": "code",
      "source": "Tab, Tac, Tad = sp.symbols(\"Tab, Tac, Tad\")",
      "metadata": {
        "trusted": true
      },
      "execution_count": 7,
      "outputs": []
    },
    {
      "cell_type": "markdown",
      "source": "### Fontion vecteur unitaire",
      "metadata": {}
    },
    {
      "cell_type": "code",
      "source": "def unitary(V: Matrix) -> Matrix:\n    length = V.dot(V)\n    return V / length",
      "metadata": {
        "trusted": true
      },
      "execution_count": 4,
      "outputs": []
    },
    {
      "cell_type": "markdown",
      "source": "### On définit nos points",
      "metadata": {}
    },
    {
      "cell_type": "code",
      "source": "A = Matrix([0, 0, 30])\nA\n\nB = Matrix([-15, 9, 0])\nB\n\nC = Matrix([0, -12, 0])\nC\n\nD = Matrix([5, 9, 0])\nD",
      "metadata": {
        "trusted": true
      },
      "execution_count": 10,
      "outputs": [
        {
          "execution_count": 10,
          "output_type": "execute_result",
          "data": {
            "text/plain": "Matrix([\n[ 0],\n[ 0],\n[30]])",
            "text/latex": "$\\displaystyle \\left[\\begin{matrix}0\\\\0\\\\30\\end{matrix}\\right]$"
          },
          "metadata": {}
        },
        {
          "execution_count": 10,
          "output_type": "execute_result",
          "data": {
            "text/plain": "Matrix([\n[-15],\n[  9],\n[  0]])",
            "text/latex": "$\\displaystyle \\left[\\begin{matrix}-15\\\\9\\\\0\\end{matrix}\\right]$"
          },
          "metadata": {}
        },
        {
          "execution_count": 10,
          "output_type": "execute_result",
          "data": {
            "text/plain": "Matrix([\n[  0],\n[-12],\n[  0]])",
            "text/latex": "$\\displaystyle \\left[\\begin{matrix}0\\\\-12\\\\0\\end{matrix}\\right]$"
          },
          "metadata": {}
        },
        {
          "execution_count": 10,
          "output_type": "execute_result",
          "data": {
            "text/plain": "Matrix([\n[5],\n[9],\n[0]])",
            "text/latex": "$\\displaystyle \\left[\\begin{matrix}5\\\\9\\\\0\\end{matrix}\\right]$"
          },
          "metadata": {}
        }
      ]
    },
    {
      "cell_type": "markdown",
      "source": "### On définit nos forces",
      "metadata": {}
    },
    {
      "cell_type": "code",
      "source": "Fab = Tab * unitary(B - A)\nFab\n\nFac = Tac * unitary(C - A)\nFac\n\nFad = Tad * unitary(D - A)\nFad",
      "metadata": {
        "trusted": true
      },
      "execution_count": 11,
      "outputs": [
        {
          "execution_count": 11,
          "output_type": "execute_result",
          "data": {
            "text/plain": "Matrix([\n[-5*Tab/402],\n[   Tab/134],\n[-5*Tab/201]])",
            "text/latex": "$\\displaystyle \\left[\\begin{matrix}- \\frac{5 Tab}{402}\\\\\\frac{Tab}{134}\\\\- \\frac{5 Tab}{201}\\end{matrix}\\right]$"
          },
          "metadata": {}
        },
        {
          "execution_count": 11,
          "output_type": "execute_result",
          "data": {
            "text/plain": "Matrix([\n[         0],\n[   -Tac/87],\n[-5*Tac/174]])",
            "text/latex": "$\\displaystyle \\left[\\begin{matrix}0\\\\- \\frac{Tac}{87}\\\\- \\frac{5 Tac}{174}\\end{matrix}\\right]$"
          },
          "metadata": {}
        },
        {
          "execution_count": 11,
          "output_type": "execute_result",
          "data": {
            "text/plain": "Matrix([\n[ 5*Tad/1006],\n[ 9*Tad/1006],\n[-15*Tad/503]])",
            "text/latex": "$\\displaystyle \\left[\\begin{matrix}\\frac{5 Tad}{1006}\\\\\\frac{9 Tad}{1006}\\\\- \\frac{15 Tad}{503}\\end{matrix}\\right]$"
          },
          "metadata": {}
        }
      ]
    },
    {
      "cell_type": "markdown",
      "source": "### Somme des forces",
      "metadata": {}
    },
    {
      "cell_type": "code",
      "source": "forces_equality = sp.Equality(Fab + Fac + Fad, Matrix([0, 0, -30]))\nforces_equality",
      "metadata": {
        "trusted": true
      },
      "execution_count": 20,
      "outputs": [
        {
          "execution_count": 20,
          "output_type": "execute_result",
          "data": {
            "text/plain": "Eq(Matrix([\n[            -5*Tab/402 + 5*Tad/1006],\n[      Tab/134 - Tac/87 + 9*Tad/1006],\n[-5*Tab/201 - 5*Tac/174 - 15*Tad/503]]), Matrix([\n[  0],\n[  0],\n[-30]]))",
            "text/latex": "$\\displaystyle \\left[\\begin{matrix}- \\frac{5 Tab}{402} + \\frac{5 Tad}{1006}\\\\\\frac{Tab}{134} - \\frac{Tac}{87} + \\frac{9 Tad}{1006}\\\\- \\frac{5 Tab}{201} - \\frac{5 Tac}{174} - \\frac{15 Tad}{503}\\end{matrix}\\right] = \\left[\\begin{matrix}0\\\\0\\\\-30\\end{matrix}\\right]$"
          },
          "metadata": {}
        }
      ]
    },
    {
      "cell_type": "markdown",
      "source": "---\n---\n\n## Calcul de la solution\n##### (Cette étape prend un peu de temps)",
      "metadata": {}
    },
    {
      "cell_type": "code",
      "source": "solution = sp.solve(forces_equality)",
      "metadata": {
        "trusted": true
      },
      "execution_count": 13,
      "outputs": []
    },
    {
      "cell_type": "markdown",
      "source": "# Les résultats !",
      "metadata": {}
    },
    {
      "cell_type": "code",
      "source": "solution[Tab].evalf()",
      "metadata": {
        "trusted": true
      },
      "execution_count": 16,
      "outputs": [
        {
          "execution_count": 16,
          "output_type": "execute_result",
          "data": {
            "text/plain": "172.285714285714",
            "text/latex": "$\\displaystyle 172.285714285714$"
          },
          "metadata": {}
        }
      ]
    },
    {
      "cell_type": "code",
      "source": "solution[Tac].evalf()",
      "metadata": {
        "trusted": true
      },
      "execution_count": 17,
      "outputs": [
        {
          "execution_count": 17,
          "output_type": "execute_result",
          "data": {
            "text/plain": "447.428571428571",
            "text/latex": "$\\displaystyle 447.428571428571$"
          },
          "metadata": {}
        }
      ]
    },
    {
      "cell_type": "code",
      "source": "solution[Tad].evalf()",
      "metadata": {
        "trusted": true
      },
      "execution_count": 18,
      "outputs": [
        {
          "execution_count": 18,
          "output_type": "execute_result",
          "data": {
            "text/plain": "431.142857142857",
            "text/latex": "$\\displaystyle 431.142857142857$"
          },
          "metadata": {}
        }
      ]
    },
    {
      "cell_type": "code",
      "source": "",
      "metadata": {},
      "execution_count": null,
      "outputs": []
    }
  ]
}